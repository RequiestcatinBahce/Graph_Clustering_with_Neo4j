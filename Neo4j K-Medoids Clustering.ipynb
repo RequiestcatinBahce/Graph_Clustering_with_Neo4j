{
 "cells": [
  {
   "cell_type": "code",
   "execution_count": 1,
   "id": "9543fc35-307f-4295-a70f-303bfe1ca4c2",
   "metadata": {},
   "outputs": [],
   "source": [
    "import pandas as pd\n",
    "from graphdatascience import GraphDataScience\n",
    "from getpass import getpass\n",
    "import kmedoids\n",
    "import numpy as np\n",
    "from matplotlib import pyplot as plt"
   ]
  },
  {
   "cell_type": "markdown",
   "id": "8bc3a0f9",
   "metadata": {},
   "source": [
    "Connecting Jupyter Notebook to Neo4j "
   ]
  },
  {
   "cell_type": "code",
   "execution_count": 2,
   "id": "3c04be69-8c74-4196-a99e-5c7638c876dc",
   "metadata": {},
   "outputs": [
    {
     "name": "stdout",
     "output_type": "stream",
     "text": [
      "Neo4j password ········\n"
     ]
    }
   ],
   "source": [
    "neo4j_pwd = getpass(\"Neo4j password\")"
   ]
  },
  {
   "cell_type": "code",
   "execution_count": 3,
   "id": "d5a6033d-7d1b-464e-b9ff-8f9ce9222402",
   "metadata": {},
   "outputs": [],
   "source": [
    "connection_uri = \"bolt:///localhost:7687\""
   ]
  },
  {
   "cell_type": "code",
   "execution_count": 5,
   "id": "71fbee2a-d9d4-4976-ab32-d1202ff476f6",
   "metadata": {},
   "outputs": [],
   "source": [
    "gds = GraphDataScience(connection_uri, auth=(\"neo4j\", neo4j_pwd))"
   ]
  },
  {
   "cell_type": "code",
   "execution_count": 6,
   "id": "5b96537f-dc28-480d-93f6-ee24fe4b7776",
   "metadata": {},
   "outputs": [],
   "source": [
    "gds.set_database(\"neo4j\")"
   ]
  },
  {
   "cell_type": "markdown",
   "id": "999fdf88",
   "metadata": {},
   "source": [
    "Finding Giant Component by Using GDS Library"
   ]
  },
  {
   "cell_type": "code",
   "execution_count": 7,
   "id": "f9ea7ad3-0461-4317-86e2-20f0c9dd1544",
   "metadata": {},
   "outputs": [],
   "source": [
    "def find_giant_component(projection, wccProperty, subgraph_name):\n",
    "    # Mutate the graph with wcc id so we can use it for filtering\n",
    "    gds.wcc.mutate(projection, mutateProperty=wccProperty)\n",
    "    # Write the wcc id to the graph so we can use it for filtering in Bloom\n",
    "    gds.graph.nodeProperties.write(projection, wccProperty)\n",
    "    # Get the id of the giant component\n",
    "    wcc_df = gds.graph.nodeProperties.stream(projection, wccProperty)\n",
    "    biggest_component_id = wcc_df['propertyValue'].value_counts().idxmax()\n",
    "    # Filter the projection to the giant component\n",
    "    subgraph, result = gds.graph.filter(subgraph_name,\n",
    "                                projection,\n",
    "                                f\"n.{wccProperty} = {biggest_component_id}\",\n",
    "                                \"*\")\n",
    "    return subgraph, result"
   ]
  },
  {
   "cell_type": "markdown",
   "id": "674b8f77",
   "metadata": {},
   "source": [
    "Finding Closest Nodes to Giant Components by Using All Pair Shortest Path Algorithm"
   ]
  },
  {
   "cell_type": "code",
   "execution_count": 8,
   "id": "958cdc51-4ad8-4f1d-a3c4-3b63d3f1e822",
   "metadata": {},
   "outputs": [],
   "source": [
    "def get_distance_array(projection, \n",
    "                       relationshipWeightProperty=None, \n",
    "                       concurrency=4):\n",
    "    all_pairs = gds.allShortestPaths.stream(projection, \n",
    "                                            relationshipWeightProperty = relationshipWeightProperty, \n",
    "                                            concurrency=concurrency)\n",
    "    distance_df = all_pairs.pivot(index='sourceNodeId', columns='targetNodeId', values='distance')\n",
    "    distance_array = distance_df.fillna(0).values\n",
    "    return distance_array, distance_df.columns"
   ]
  },
  {
   "cell_type": "markdown",
   "id": "48039ece",
   "metadata": {},
   "source": [
    "Using K-Mdeoids Clustering by Taking Random K Value"
   ]
  },
  {
   "cell_type": "code",
   "execution_count": 9,
   "id": "ac2e97f0-a108-48b1-8a50-dccdd839323c",
   "metadata": {},
   "outputs": [],
   "source": [
    "def test_values_of_k(k_list, distance_array):\n",
    "    result_df = pd.DataFrame(columns=['k', 'loss', 'silhouette'])\n",
    "    for k in k_list:\n",
    "        km = kmedoids.KMedoids(k, method=\"fasterpam\")\n",
    "        c = km.fit(distance_array)\n",
    "        silhouette, _ = kmedoids.medoid_silhouette(distance_array, \n",
    "                                                   c.medoid_indices_, \n",
    "                                                   False)\n",
    "        result_df.loc[len(result_df.index)] = [k, c.inertia_, silhouette]\n",
    "    result_df.plot.scatter(x='k', y='silhouette')\n",
    "    return result_df"
   ]
  },
  {
   "cell_type": "code",
   "execution_count": 10,
   "id": "49a01d25-22e2-44a7-ac68-822c7703fa37",
   "metadata": {},
   "outputs": [],
   "source": [
    "def write_kmedoid(distance_array,\n",
    "                  array_index,\n",
    "                  k,\n",
    "                  medoid_property_name,\n",
    "                  cluster_property_name):\n",
    "    km = kmedoids.KMedoids(k, method='fasterpam')\n",
    "    c = km.fit(distance_array)\n",
    "    medoid_ids = [array_index[i] for i in c.medoid_indices_]\n",
    "    gds.run_cypher(f\"\"\"\n",
    "                    UNWIND $medoidIds as medoidId\n",
    "                    WITH gds.util.asNode(medoidId) AS medoid\n",
    "                    SET medoid.{medoid_property_name} = True\"\"\",\n",
    "                   {\"medoidIds\": medoid_ids})\n",
    "    gds.run_cypher(f\"\"\"\n",
    "                    UNWIND range(0, size($labels)-1) AS i\n",
    "                    WITH $labels[i] AS label, $nodeIds[i] AS nodeId\n",
    "                    WITH label, gds.util.asNode(nodeId) AS member\n",
    "                    SET member.{cluster_property_name} = label\"\"\",\n",
    "                   {\"labels\": c.labels_, \"nodeIds\": list(array_index)})\n",
    "    return c.medoid_indices_, c.labels_"
   ]
  },
  {
   "cell_type": "markdown",
   "id": "2c5acdce",
   "metadata": {},
   "source": [
    "Taking Results by Calculating the Distance n*(n+1)/2"
   ]
  },
  {
   "cell_type": "code",
   "execution_count": 11,
   "id": "b18ba093-792f-42e9-b6ba-d0d5c57d067f",
   "metadata": {},
   "outputs": [],
   "source": [
    "def create_silhouette_plot(distance_array, labels, medoid_indices):\n",
    "    score, samples = kmedoids.medoid_silhouette(distance_array, medoid_indices, True)\n",
    "    fig, ax = plt.subplots(1,1,figsize=(10,8))\n",
    "    y_ticks = []\n",
    "    y_lower = y_upper = 0\n",
    "    for i,cluster in enumerate(np.unique(labels)):\n",
    "        cluster_silhouette_vals = samples[labels ==cluster]\n",
    "        cluster_silhouette_vals.sort()\n",
    "        y_upper += len(cluster_silhouette_vals)\n",
    "    \n",
    "        ax.barh(range(y_lower,y_upper),\n",
    "                   cluster_silhouette_vals,height =1);\n",
    "        ax.text(-0.03,(y_lower+y_upper)/2,str(i))\n",
    "        y_lower += len(cluster_silhouette_vals)\n",
    "       \n",
    "    # Get the average silhouette score \n",
    "    ax.axvline(score,linestyle ='--',\n",
    "    linewidth =2,color = 'green')\n",
    "    ax.set_yticks([])\n",
    "    ax.set_xlim([-0.1, 1])\n",
    "    ax.set_xlabel('Medoid silhouette values')\n",
    "    ax.set_ylabel('Cluster labels')\n",
    "    ax.set_title('Medoid silhouette plot')"
   ]
  },
  {
   "cell_type": "markdown",
   "id": "3415c879",
   "metadata": {},
   "source": [
    "Creating Graph Projection"
   ]
  },
  {
   "cell_type": "code",
   "execution_count": 12,
   "id": "ced7cecc-948f-41c7-b0a0-61fc65bb8efa",
   "metadata": {},
   "outputs": [],
   "source": [
    "g_amtrak, result = gds.graph.project(\"amtrak\",\n",
    "                                     \"Station\",\n",
    "                                     {\"CONNECTS_TO\":\n",
    "                                      {\"orientation\": \"UNDIRECTED\",\n",
    "                                       \"properties\":{\"distance\":\"distance\"}\n",
    "                                      }\n",
    "                                     }\n",
    "                                    )"
   ]
  },
  {
   "cell_type": "code",
   "execution_count": 13,
   "id": "89dffbc0-bec6-4379-81ac-29532f8ea9e7",
   "metadata": {},
   "outputs": [],
   "source": [
    "g_amtrak_connected, result = find_giant_component(g_amtrak, \n",
    "                                                  \"wccId\",\n",
    "                                                  \"amtrak_connected\")"
   ]
  },
  {
   "cell_type": "code",
   "execution_count": 14,
   "id": "ea5545d3-a9fb-414f-b609-f95d75b1927e",
   "metadata": {},
   "outputs": [],
   "source": [
    "amtrak_distance_array, amtrak_index = get_distance_array(g_amtrak_connected,\n",
    "                                                         relationshipWeightProperty=\"distance\",\n",
    "                                                         concurrency=4)"
   ]
  },
  {
   "cell_type": "code",
   "execution_count": 15,
   "id": "85d537ab-5048-4c80-8785-464c5ee4bcc7",
   "metadata": {},
   "outputs": [
    {
     "data": {
      "image/png": "[encoded data removed]",
      "text/plain": [
       "<Figure size 640x480 with 1 Axes>"
      ]
     },
     "metadata": {},
     "output_type": "display_data"
    }
   ],
   "source": [
    "amtrak_result_df = test_values_of_k(range(2,16), amtrak_distance_array)"
   ]
  },
  {
   "cell_type": "code",
   "execution_count": 16,
   "id": "35d1f33c-177c-45ac-83cf-f3747229f489",
   "metadata": {},
   "outputs": [],
   "source": [
    "amtrak_medoids, amtrak_labels = write_kmedoid(amtrak_distance_array, \n",
    "                                              amtrak_index, \n",
    "                                              8, \n",
    "                                              \"medoid\", \n",
    "                                              \"partitionId\")"
   ]
  },
  {
   "cell_type": "code",
   "execution_count": 17,
   "id": "2bbda377-48cd-43ad-b2ff-84dab589f850",
   "metadata": {},
   "outputs": [
    {
     "data": {
      "image/png": "[encoded data removed]",
      "text/plain": [
       "<Figure size 1000x800 with 1 Axes>"
      ]
     },
     "metadata": {},
     "output_type": "display_data"
    }
   ],
   "source": [
    "create_silhouette_plot(amtrak_distance_array, amtrak_labels, amtrak_medoids)"
   ]
  }
 ],
 "metadata": {
  "kernelspec": {
   "display_name": "Python 3 (ipykernel)",
   "language": "python",
   "name": "python3"
  },
  "language_info": {
   "codemirror_mode": {
    "name": "ipython",
    "version": 3
   },
   "file_extension": ".py",
   "mimetype": "text/x-python",
   "name": "python",
   "nbconvert_exporter": "python",
   "pygments_lexer": "ipython3",
   "version": "3.9.18"
  }
 },
 "nbformat": 4,
 "nbformat_minor": 5
}
